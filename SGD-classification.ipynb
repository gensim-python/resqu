{
 "cells": [
  {
   "cell_type": "code",
   "execution_count": 9,
   "metadata": {
    "collapsed": false
   },
   "outputs": [
    {
     "name": "stdout",
     "output_type": "stream",
     "text": [
      "Loading datasets...\n",
      "(12, 456)\n",
      "12\n",
      "455\n",
      "Number of training examples: 12\n",
      "Number of features: 455\n",
      "Training data: (12,455)\n",
      "\n",
      "Training Classifier...\n",
      "Precision (micro): 0.0000\n",
      "Precision (micro): 0.0000\n",
      "Precision (micro): 0.0000\n",
      "Precision (micro): 0.0000\n",
      "Precision (micro): 0.0000\n"
     ]
    },
    {
     "name": "stderr",
     "output_type": "stream",
     "text": [
      "/home/nishita/env/local/lib/python2.7/site-packages/sklearn/metrics/classification.py:976: DeprecationWarning: From version 0.18, binary input will not be handled specially when using averaged precision/recall/F-score. Please use average='binary' to report only the positive class performance.\n",
      "  'positive class performance.', DeprecationWarning)\n",
      "/home/nishita/env/local/lib/python2.7/site-packages/sklearn/metrics/classification.py:976: DeprecationWarning: From version 0.18, binary input will not be handled specially when using averaged precision/recall/F-score. Please use average='binary' to report only the positive class performance.\n",
      "  'positive class performance.', DeprecationWarning)\n",
      "/home/nishita/env/local/lib/python2.7/site-packages/sklearn/metrics/classification.py:976: DeprecationWarning: From version 0.18, binary input will not be handled specially when using averaged precision/recall/F-score. Please use average='binary' to report only the positive class performance.\n",
      "  'positive class performance.', DeprecationWarning)\n",
      "/home/nishita/env/local/lib/python2.7/site-packages/sklearn/metrics/classification.py:1074: UndefinedMetricWarning: Precision is ill-defined and being set to 0.0 due to no predicted samples.\n",
      "  'precision', 'predicted', average, warn_for)\n",
      "/home/nishita/env/local/lib/python2.7/site-packages/sklearn/metrics/classification.py:976: DeprecationWarning: From version 0.18, binary input will not be handled specially when using averaged precision/recall/F-score. Please use average='binary' to report only the positive class performance.\n",
      "  'positive class performance.', DeprecationWarning)\n",
      "/home/nishita/env/local/lib/python2.7/site-packages/sklearn/metrics/classification.py:976: DeprecationWarning: From version 0.18, binary input will not be handled specially when using averaged precision/recall/F-score. Please use average='binary' to report only the positive class performance.\n",
      "  'positive class performance.', DeprecationWarning)\n"
     ]
    }
   ],
   "source": [
    "from sklearn.linear_model import SGDClassifier\n",
    "from sklearn.metrics import precision_score\n",
    "from sklearn.cross_validation import KFold\n",
    "import numpy as np\n",
    "from numpy import loadtxt\n",
    "\n",
    "def load_data(input_file, delim=\",\"):\n",
    "    data = np.loadtxt(input_file, delimiter=delim)\n",
    "    print data.shape\n",
    "    print data.shape[0]\n",
    "    n_features = data.shape[1]-1\n",
    "    print n_features\n",
    "    if n_features == 1:\n",
    "        X = data[:,0]\n",
    "    else:\n",
    "        X = data[:,np.arange(n_features)]\n",
    "    y = data[:,n_features]\n",
    "    assert len(X) == len(y)\n",
    "    print(\"Number of training examples: %i\" % X.shape[0])\n",
    "    print(\"Number of features: %s\" % X.shape[1])\n",
    "\n",
    "    return X, y\n",
    "\n",
    "def svm_sgd_optimize(X, y):    \n",
    "    n_examples = X.shape[0]\n",
    "    for train_index, test_index in KFold(n=n_examples, n_folds=5, shuffle=True):\n",
    "        X_train, X_test = X[train_index], X[test_index]\n",
    "        y_train, y_test = y[train_index], y[test_index]\n",
    "\n",
    "        clf = SGDClassifier()\n",
    "        clf.fit(X_train, y_train)\n",
    "        \n",
    "        y_pred = clf.predict(X_test)\n",
    "        precision = precision_score(y_test, y_pred, average='micro')\n",
    "        print(\"Precision (micro): %.4f\" % precision)\n",
    "\n",
    "print('Loading datasets...')\n",
    "X, y = load_data(\"output-1.csv\")\n",
    "print(\"Training data: (%i,%i)\" % (X.shape[0], X.shape[1]))\n",
    "\n",
    "print('\\nTraining Classifier...')\n",
    "svm_sgd_optimize(X, y)"
   ]
  },
  {
   "cell_type": "code",
   "execution_count": 13,
   "metadata": {
    "collapsed": false
   },
   "outputs": [
    {
     "data": {
      "image/png": "[encoded data removed]",
      "text/plain": [
       "<matplotlib.figure.Figure at 0x7f3d7791cd50>"
      ]
     },
     "metadata": {},
     "output_type": "display_data"
    }
   ],
   "source": [
    "import matplotlib.pyplot as plt\n",
    "plt.title('Scatter plot of training data')\n",
    "plt.xlabel('Exam 1 Score')\n",
    "plt.ylabel('Exam 2 score')\n",
    "\n",
    "x_pos = np.where(y == 1)\n",
    "x_neg = np.where(y == 0)\n",
    "\n",
    "adm = plt.scatter(X[x_pos][:,0], X[x_pos][:,1], marker='+', color='k')\n",
    "not_adm = plt.scatter(X[x_neg][:,0], X[x_neg][:,1], marker='o', color='y')\n",
    "plt.legend((adm, not_adm), ('Admitted', 'Not Admitted'), scatterpoints=1, loc=\"upper right\")\n",
    "# plt.xlim(30, 100)\n",
    "# plt.ylim(30, 100)\n",
    "plt.show()"
   ]
  },
  {
   "cell_type": "code",
   "execution_count": 11,
   "metadata": {
    "collapsed": false
   },
   "outputs": [
    {
     "name": "stdout",
     "output_type": "stream",
     "text": [
      "Populating the interactive namespace from numpy and matplotlib\n"
     ]
    }
   ],
   "source": [
    "%pylab inline"
   ]
  },
  {
   "cell_type": "code",
   "execution_count": null,
   "metadata": {
    "collapsed": true
   },
   "outputs": [],
   "source": []
  }
 ],
 "metadata": {
  "kernelspec": {
   "display_name": "Python 2",
   "language": "python",
   "name": "python2"
  },
  "language_info": {
   "codemirror_mode": {
    "name": "ipython",
    "version": 2
   },
   "file_extension": ".py",
   "mimetype": "text/x-python",
   "name": "python",
   "nbconvert_exporter": "python",
   "pygments_lexer": "ipython2",
   "version": "2.7.6"
  }
 },
 "nbformat": 4,
 "nbformat_minor": 0
}
